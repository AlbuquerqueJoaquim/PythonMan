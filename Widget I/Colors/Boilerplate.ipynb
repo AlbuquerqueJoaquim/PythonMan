{
 "cells": [
  {
   "cell_type": "code",
   "execution_count": null,
   "metadata": {},
   "outputs": [],
   "source": [
    "#coding: utf-8\n",
    "#autor: Joks\n",
    "\n",
    "from kivy.app import App\n",
    "from kivy.uix.button import Button\n",
    "from kivy.interactive import InteractiveLauncher\n",
    "from kivy.lang import Builder\n",
    "#forca a aplicação a não iniciar em tela cheia\n",
    "from kivy.config import Config\n",
    "Config.set(\"graphics\",\"fullscreen\",\"0\")\n",
    "\n",
    "janela = None\n",
    "glayout = None\n"
   ]
  },
  {
   "cell_type": "code",
   "execution_count": null,
   "metadata": {},
   "outputs": [],
   "source": [
    "class JanelaApp(App):\n",
    "    pass\n",
    "\n",
    "janela = JanelaApp()\n",
    "ji = InteractiveLauncher( janela )\n",
    "ji.run()\n"
   ]
  },
  {
   "cell_type": "code",
   "execution_count": null,
   "metadata": {},
   "outputs": [],
   "source": [
    "kvcode = \"\"\"\n",
    "\n",
    "#:import C kivy.utils.get_color_from_hex\n",
    "\n",
    "FloatLayout:\n",
    "    Button:\n",
    "        size_hint: .3, .3\n",
    "        pos_hint:{\"center_x\": .5, \"center_y\":.5}\n",
    "        background_color: 0, .2, .1, 1\n",
    "        background_color: C(\"#FFFF\")\n",
    "        background_normal: \"\"\n",
    "    \n",
    "    \n",
    "\"\"\"\n",
    "#verificando o layout se caso houver alteração ele adiciona o item que for adicionado atraves do window.remove_widget\n",
    "if(janela.root):\n",
    "    janela.root_window.remove_widget(janela.root)\n",
    "    janela.root = None\n",
    "    glayout = None\n",
    "\n",
    "janela.root = glayout =  Builder.load_string(kvcode)\n",
    "janela.root_window.add_widget(glayout)"
   ]
  },
  {
   "cell_type": "code",
   "execution_count": null,
   "metadata": {},
   "outputs": [],
   "source": [
    "from kivy.utils import get_color_from_hex\n",
    "get_color_from_hex(\"#FFFFFF\")"
   ]
  },
  {
   "cell_type": "code",
   "execution_count": null,
   "metadata": {},
   "outputs": [],
   "source": []
  },
  {
   "cell_type": "code",
   "execution_count": null,
   "metadata": {},
   "outputs": [],
   "source": []
  }
 ],
 "metadata": {
  "kernelspec": {
   "display_name": "Python 3",
   "language": "python",
   "name": "python3"
  },
  "language_info": {
   "codemirror_mode": {
    "name": "ipython",
    "version": 3
   },
   "file_extension": ".py",
   "mimetype": "text/x-python",
   "name": "python",
   "nbconvert_exporter": "python",
   "pygments_lexer": "ipython3",
   "version": "3.6.7"
  }
 },
 "nbformat": 4,
 "nbformat_minor": 2
}
