{
 "cells": [
  {
   "cell_type": "code",
   "execution_count": 1,
   "metadata": {},
   "outputs": [
    {
     "name": "stderr",
     "output_type": "stream",
     "text": [
      "[INFO   ] [Logger      ] Record log in /home/joaquimpc/.kivy/logs/kivy_19-11-03_5.txt\n",
      "[INFO   ] [Factory     ] 194 symbols loaded\n",
      "[INFO   ] [Image       ] Providers: img_tex, img_dds, img_sdl2, img_gif (img_pil, img_ffpyplayer ignored)\n",
      "[INFO   ] [Text        ] Provider: sdl2\n",
      "[INFO   ] [Kivy        ] v1.10.1\n",
      "[INFO   ] [Python      ] v3.6.7 (default, Oct 22 2018, 11:32:17) \n",
      "[GCC 8.2.0]\n",
      "[WARNING] Call to deprecated function __init__ in /home/joaquimpc/.virtualenvs/k36/lib/python3.6/site-packages/kivy/interactive.py line 308.Called from <ipython-input-2-49bd37b6188f> line 4 by <module>().\n",
      "[INFO   ] [Window      ] Provider: sdl2(['window_egl_rpi'] ignored)\n",
      "[INFO   ] [GL          ] Using the \"OpenGL\" graphics system\n",
      "[INFO   ] [GL          ] Backend used <gl>\n",
      "[INFO   ] [GL          ] OpenGL version <b'3.0 Mesa 19.0.8'>\n",
      "[INFO   ] [GL          ] OpenGL vendor <b'Intel Open Source Technology Center'>\n",
      "[INFO   ] [GL          ] OpenGL renderer <b'Mesa DRI Intel(R) HD Graphics 5500 (Broadwell GT2) '>\n",
      "[INFO   ] [GL          ] OpenGL parsed version: 3, 0\n",
      "[INFO   ] [GL          ] Shading version <b'1.30'>\n",
      "[INFO   ] [GL          ] Texture max size <16384>\n",
      "[INFO   ] [GL          ] Texture max units <32>\n",
      "[INFO   ] [Window      ] auto add sdl2 input provider\n",
      "[INFO   ] [Window      ] virtual keyboard not allowed, single mode, not docked\n",
      "[INFO   ] [ProbeSysfs  ] device match: /dev/input/event5\n",
      "[INFO   ] [MTD         ] Read event from </dev/input/event5>\n",
      "[INFO   ] [Base        ] Start application main loop\n",
      "[WARNING] [MTD         ] Unable to open device \"/dev/input/event5\". Please ensure you have the appropriate permissions.\n",
      "[INFO   ] [GL          ] NPOT texture support is available\n",
      "[INFO   ] [Base        ] Leaving application in progress...\n",
      " Exception in thread Thread-4:\n",
      " Traceback (most recent call last):\n",
      "   File \"/usr/lib/python3.6/threading.py\", line 916, in _bootstrap_inner\n",
      "     self.run()\n",
      "   File \"/usr/lib/python3.6/threading.py\", line 864, in run\n",
      "     self._target(*self._args, **self._kwargs)\n",
      "   File \"/home/joaquimpc/.virtualenvs/k36/lib/python3.6/site-packages/kivy/interactive.py\", line 319, in startApp\n",
      "     app.run(*args, **kwargs)\n",
      "   File \"/home/joaquimpc/.virtualenvs/k36/lib/python3.6/site-packages/kivy/app.py\", line 826, in run\n",
      "     runTouchApp()\n",
      "   File \"/home/joaquimpc/.virtualenvs/k36/lib/python3.6/site-packages/kivy/base.py\", line 502, in runTouchApp\n",
      "     EventLoop.window.mainloop()\n",
      "   File \"/home/joaquimpc/.virtualenvs/k36/lib/python3.6/site-packages/kivy/core/window/window_sdl2.py\", line 727, in mainloop\n",
      "     self._mainloop()\n",
      "   File \"/home/joaquimpc/.virtualenvs/k36/lib/python3.6/site-packages/kivy/core/window/window_sdl2.py\", line 460, in _mainloop\n",
      "     EventLoop.idle()\n",
      "   File \"/home/joaquimpc/.virtualenvs/k36/lib/python3.6/site-packages/kivy/base.py\", line 337, in idle\n",
      "     Clock.tick()\n",
      "   File \"/home/joaquimpc/.virtualenvs/k36/lib/python3.6/site-packages/kivy/clock.py\", line 581, in tick\n",
      "     self._process_events()\n",
      "   File \"kivy/_clock.pyx\", line 384, in kivy._clock.CyClockBase._process_events (/tmp/pip-install-7__fmqf8/kivy/kivy/_clock.c:7839)\n",
      "   File \"kivy/_clock.pyx\", line 414, in kivy._clock.CyClockBase._process_events (/tmp/pip-install-7__fmqf8/kivy/kivy/_clock.c:7597)\n",
      "   File \"kivy/_clock.pyx\", line 412, in kivy._clock.CyClockBase._process_events (/tmp/pip-install-7__fmqf8/kivy/kivy/_clock.c:7519)\n",
      "   File \"kivy/_clock.pyx\", line 167, in kivy._clock.ClockEvent.tick (/tmp/pip-install-7__fmqf8/kivy/kivy/_clock.c:3258)\n",
      "   File \"/home/joaquimpc/.virtualenvs/k36/lib/python3.6/site-packages/kivy/uix/label.py\", line 372, in texture_update\n",
      "     self._label.refresh()\n",
      "   File \"/home/joaquimpc/.virtualenvs/k36/lib/python3.6/site-packages/kivy/core/text/__init__.py\", line 667, in refresh\n",
      "     self.resolve_font_name()\n",
      "   File \"/home/joaquimpc/.virtualenvs/k36/lib/python3.6/site-packages/kivy/core/text/__init__.py\", line 285, in resolve_font_name\n",
      "     raise IOError('Label: File %r not found' % fontname)\n",
      " OSError: Label: File 'consola.ttf' not found\n",
      " \n"
     ]
    }
   ],
   "source": [
    "from kivy.app import App\n",
    "from kivy.uix.button import Button\n",
    "from kivy.uix.label import Label\n",
    "from kivy.interactive import InteractiveLauncher\n",
    "from kivy.lang import Builder\n",
    "\n",
    "#força a aplicação a nao iniciar em tela cheia\n",
    "from kivy.config import Config\n",
    "Config.set(\"graphics\", \"fullscreen\", \"0\")\n",
    "\n",
    "janela = None\n",
    "glayout = None"
   ]
  },
  {
   "cell_type": "code",
   "execution_count": 2,
   "metadata": {},
   "outputs": [],
   "source": [
    "class JanelaApp(App):\n",
    "    pass\n",
    "janela = JanelaApp()\n",
    "ji = InteractiveLauncher( janela )\n",
    "ji.run()\n"
   ]
  },
  {
   "cell_type": "code",
   "execution_count": 3,
   "metadata": {},
   "outputs": [],
   "source": [
    "kvcode = \"\"\"\n",
    "\n",
    "StackLayout:\n",
    "    orientation: \"tb-lr\"\n",
    "    padding: 50\n",
    "\"\"\"\n",
    "\n",
    "if(janela.root):\n",
    "    janela.root_window.remove_widget(janela.root)\n",
    "    janela.root = None\n",
    "    glayout = None\n",
    "\n",
    "janela.root = glayout = Builder.load_string(kvcode)\n",
    "janela.root_window.add_widget(glayout)\n"
   ]
  },
  {
   "cell_type": "code",
   "execution_count": 4,
   "metadata": {},
   "outputs": [],
   "source": [
    "def add_lb(**args):\n",
    "    lb=Label(text=\"Estudando a classe Label\",\n",
    "              size_hint_y = None,\n",
    "              height=50,\n",
    "              **args)\n",
    "    glayout.add_widget(lb)\n",
    "    return lb"
   ]
  },
  {
   "cell_type": "code",
   "execution_count": 5,
   "metadata": {},
   "outputs": [],
   "source": [
    "#fot_size determina o tamanho da fonte\n",
    "add_lb().font_size = 10"
   ]
  },
  {
   "cell_type": "code",
   "execution_count": 6,
   "metadata": {},
   "outputs": [],
   "source": [
    "#font_name determina a fonte do texto\n",
    "x = add_lb()\n",
    "x.font_name = \"consola\""
   ]
  },
  {
   "cell_type": "code",
   "execution_count": 7,
   "metadata": {},
   "outputs": [],
   "source": [
    "#bold = negrito\n",
    "add_lb().bold = True"
   ]
  },
  {
   "cell_type": "code",
   "execution_count": 8,
   "metadata": {},
   "outputs": [],
   "source": [
    "add_lb().italic = True"
   ]
  },
  {
   "cell_type": "code",
   "execution_count": 9,
   "metadata": {},
   "outputs": [],
   "source": [
    "add_lb(font_size=20).color = .1,.2,.3,.1"
   ]
  },
  {
   "cell_type": "code",
   "execution_count": 10,
   "metadata": {},
   "outputs": [],
   "source": [
    "add_lb(font_size=30).disabled = True"
   ]
  }
 ],
 "metadata": {
  "kernelspec": {
   "display_name": "Python 3",
   "language": "python",
   "name": "python3"
  },
  "language_info": {
   "codemirror_mode": {
    "name": "ipython",
    "version": 3
   },
   "file_extension": ".py",
   "mimetype": "text/x-python",
   "name": "python",
   "nbconvert_exporter": "python",
   "pygments_lexer": "ipython3",
   "version": "3.6.7"
  }
 },
 "nbformat": 4,
 "nbformat_minor": 2
}
